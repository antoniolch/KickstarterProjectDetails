{
 "cells": [
  {
   "cell_type": "markdown",
   "metadata": {},
   "source": [
    "## Notebook for Filtering Data"
   ]
  },
  {
   "cell_type": "markdown",
   "metadata": {},
   "source": [
    "This notebook is used to filter the [Kickstarter Projects Dataset](https://www.kaggle.com/kemical/kickstarter-projects#ks-projects-201801.csv) that has been copied with as ___\"whole_kickstarter_projects.csv\"___ in the main directory.\n",
    "Because of the dimension of the whole datased is huge, all the columns and the raws that are not going to be used were deleted."
   ]
  },
  {
   "cell_type": "code",
   "execution_count": 1,
   "metadata": {},
   "outputs": [],
   "source": [
    "from pandas import *"
   ]
  },
  {
   "cell_type": "code",
   "execution_count": 2,
   "metadata": {},
   "outputs": [],
   "source": [
    "kick_csv = read_csv(\"whole_kickstarter_projects.csv\")"
   ]
  },
  {
   "cell_type": "code",
   "execution_count": 3,
   "metadata": {},
   "outputs": [],
   "source": [
    "# deleting all the category useless for the scope of my visualisations\n",
    "kick_csv = kick_csv[[\"ID\",\"name\", \"category\", \"main_category\", \"launched\", \"state\", \"usd_pledged_real\", \"usd_goal_real\"]]"
   ]
  },
  {
   "cell_type": "code",
   "execution_count": 4,
   "metadata": {},
   "outputs": [],
   "source": [
    "#dataset used for the 1st visualisation\n",
    "vis1_csv = kick_csv.loc[(kick_csv[\"state\"] == \"successful\")]\n",
    "vis1_csv = kick_csv[[\"ID\", \"category\"]]\n",
    "vis1_csv.to_csv(\"whole_kickstarter_projects_filtered_vis1.csv\", index = False)"
   ]
  },
  {
   "cell_type": "code",
   "execution_count": 5,
   "metadata": {},
   "outputs": [],
   "source": [
    "#dataset used for the 2st visualisation\n",
    "vis2_csv = kick_csv.loc[(kick_csv[\"main_category\"] == \"Techology\") ]\n",
    "vis2_csv = kick_csv[[\"ID\",\"name\", \"category\", \"state\", \"usd_pledged_real\", \"usd_goal_real\"]]\n",
    "vis2_csv.to_csv(\"whole_kickstarter_projects_filtered_vis2.csv\", index = False)"
   ]
  },
  {
   "cell_type": "code",
   "execution_count": 6,
   "metadata": {},
   "outputs": [],
   "source": [
    "#dataset used for the 3st visualisation\n",
    "vis3_csv = kick_csv.loc[(kick_csv[\"category\"] == \"3D Printing\") |  (kick_csv[\"category\"] == \"Robots\")]\n",
    "vis3_csv = kick_csv[[\"ID\", \"category\", \"launched\"]]\n",
    "vis3_csv.to_csv(\"whole_kickstarter_projects_filtered_vis3.csv\", index = False)"
   ]
  }
 ],
 "metadata": {
  "kernelspec": {
   "display_name": "Python 3",
   "language": "python",
   "name": "python3"
  },
  "language_info": {
   "codemirror_mode": {
    "name": "ipython",
    "version": 3
   },
   "file_extension": ".py",
   "mimetype": "text/x-python",
   "name": "python",
   "nbconvert_exporter": "python",
   "pygments_lexer": "ipython3",
   "version": "3.7.4"
  }
 },
 "nbformat": 4,
 "nbformat_minor": 2
}
