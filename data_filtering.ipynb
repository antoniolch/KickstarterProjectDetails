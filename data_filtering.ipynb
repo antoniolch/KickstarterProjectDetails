{
 "cells": [
  {
   "cell_type": "markdown",
   "metadata": {},
   "source": [
    "## Notebook for Filtering Data"
   ]
  },
  {
   "cell_type": "markdown",
   "metadata": {},
   "source": [
    "This notebook is used to filter the [Kickstarter Projects Dataset](https://www.kaggle.com/kemical/kickstarter-projects#ks-projects-201801.csv) that has been copied with as ___\"whole_kickstarter_projects.csv\"___ in the main directory.\n",
    "Because of the dimension of the whole datased is huge, all the columns and the raws that are not going to be used were deleted."
   ]
  },
  {
   "cell_type": "code",
   "execution_count": 59,
   "metadata": {},
   "outputs": [],
   "source": [
    "from pandas import *"
   ]
  },
  {
   "cell_type": "code",
   "execution_count": 60,
   "metadata": {},
   "outputs": [],
   "source": [
    "kick_csv = read_csv(\"whole_kickstarter_projects.csv\")"
   ]
  },
  {
   "cell_type": "code",
   "execution_count": 61,
   "metadata": {},
   "outputs": [],
   "source": [
    "# deleting all the category useless for the scope of my visualisations\n",
    "kick_csv = kick_csv[[\"ID\", \"category\", \"main_category\", \"launched\", \"state\", \"usd_pledged_real\", \"usd_goal_real\"]]\n",
    "#deleting the states that differs from \"successful\" or \"failed\"\n",
    "kick_csv = kick_csv.loc[(kick_csv[\"state\"] == \"successful\") | (kick_csv[\"state\"] == \"failed\")]"
   ]
  },
  {
   "cell_type": "code",
   "execution_count": 62,
   "metadata": {},
   "outputs": [],
   "source": [
    "kick_csv.to_csv(\"whole_kickstarter_projects_filtered.csv\", index = False)"
   ]
  },
  {
   "cell_type": "code",
   "execution_count": null,
   "metadata": {},
   "outputs": [],
   "source": []
  },
  {
   "cell_type": "code",
   "execution_count": null,
   "metadata": {},
   "outputs": [],
   "source": []
  }
 ],
 "metadata": {
  "kernelspec": {
   "display_name": "Python 3",
   "language": "python",
   "name": "python3"
  },
  "language_info": {
   "codemirror_mode": {
    "name": "ipython",
    "version": 3
   },
   "file_extension": ".py",
   "mimetype": "text/x-python",
   "name": "python",
   "nbconvert_exporter": "python",
   "pygments_lexer": "ipython3",
   "version": "3.7.4"
  }
 },
 "nbformat": 4,
 "nbformat_minor": 2
}
